{
 "cells": [
  {
   "cell_type": "markdown",
   "id": "61847f62",
   "metadata": {},
   "source": [
    "# Importing and Querying Data with PostgreSQL (Northwind Database)\n",
    "\n",
    "Tutorials: https://www.youtube.com/watch?v=zpnHsWOy0RY&list=PLP9IO4UYNF0UQkBXlTMSw0CYsxv-GDkkI\n",
    "\n",
    "All data and many examples of SQL-Queries are available here: https://www.w3schools.com/sql/default.asp"
   ]
  },
  {
   "cell_type": "markdown",
   "id": "a5bf2790",
   "metadata": {},
   "source": [
    "## Frequently used SQL clauses (for in-depth learning)"
   ]
  },
  {
   "cell_type": "markdown",
   "id": "901761f3",
   "metadata": {},
   "source": [
    "<div>\n",
    "  <style>\n",
    "    .sql-keyword {\n",
    "      color: blue;\n",
    "    }\n",
    "  </style>\n",
    "  <span class=\"sql-keyword\">SELECT</span><br>\n",
    "  <span class=\"sql-keyword\">FROM</span><br>\n",
    "  <span class=\"sql-keyword\">WHERE</span><br>\n",
    "  <span class=\"sql-keyword\">GROUP BY</span><br>\n",
    "  <span class=\"sql-keyword\">HAVING</span><br>\n",
    "  <span class=\"sql-keyword\">ORDER BY</span><br>\n",
    "  <span class=\"sql-keyword\">FULL JOIN (FULL OUTER JOIN)</span><br>\n",
    "  <span class=\"sql-keyword\">INNER JOIN</span><br>\n",
    "  <span class=\"sql-keyword\">LEFT JOIN</span><br>\n",
    "  <span class=\"sql-keyword\">RIGHT JOIN</span><br>\n",
    "  <span class=\"sql-keyword\">ON</span><br>\n",
    "  <span class=\"sql-keyword\">LIMIT</span><br>\n",
    "  <span class=\"sql-keyword\">AS</span><br>\n",
    "  <span class=\"sql-keyword\">AVG</span><br>\n",
    "  <span class=\"sql-keyword\">COUNT</span><br>\n",
    "  <span class=\"sql-keyword\">MIN</span><br>\n",
    "  <span class=\"sql-keyword\">MAX</span><br>\n",
    "  <span class=\"sql-keyword\">SUM</span><br>\n",
    "  <span class=\"sql-keyword\">BETWEEN</span><br>\n",
    "  <span class=\"sql-keyword\">IN</span><br>\n",
    "  <span class=\"sql-keyword\">IS NULL</span>\n",
    "</div>"
   ]
  },
  {
   "cell_type": "markdown",
   "id": "9b8df3dd",
   "metadata": {},
   "source": [
    "## Libraries and Settings"
   ]
  },
  {
   "cell_type": "code",
   "execution_count": null,
   "id": "b027d889",
   "metadata": {},
   "outputs": [],
   "source": [
    "# Libraries\n",
    "import os\n",
    "import pandas as pd\n",
    "from sqlalchemy import create_engine, text\n",
    "import matplotlib.pyplot as plt\n",
    "\n",
    "# Settings\n",
    "import warnings\n",
    "warnings.filterwarnings(\"ignore\")\n",
    "\n",
    "# Current working directory\n",
    "print(os.getcwd())"
   ]
  },
  {
   "cell_type": "markdown",
   "id": "53f4b234",
   "metadata": {},
   "source": [
    "## Read data to separate data frames"
   ]
  },
  {
   "cell_type": "code",
   "execution_count": null,
   "id": "ef32ffa2-1859-48af-a78c-0f1b5748fc98",
   "metadata": {},
   "outputs": [],
   "source": [
    "# Define path to data\n",
    "path = 'workspace/Data/'\n",
    "\n",
    "# Read data from .csv files\n",
    "df_customers = pd.read_csv(f'{path}Customers.csv', sep=';')\n",
    "df_categories = pd.read_csv(f'{path}Categories.csv', sep=';')\n",
    "df_employees = pd.read_csv(f'{path}Employees.csv', sep=';')\n",
    "df_order_details = pd.read_csv(f'{path}OrderDetails.csv', sep=';')\n",
    "df_orders = pd.read_csv(f'{path}Orders.csv', sep=';')\n",
    "df_products = pd.read_csv(f'{path}Products.csv', sep=';')\n",
    "df_shippers = pd.read_csv(f'{path}Shippers.csv', sep=';')\n",
    "df_suppliers = pd.read_csv(f'{path}Suppliers.csv', sep=';')\n",
    "\n",
    "# Change column names to lowercase\n",
    "df_customers.columns = df_customers.columns.str.lower()\n",
    "df_categories.columns = df_categories.columns.str.lower()\n",
    "df_employees.columns = df_employees.columns.str.lower()\n",
    "df_order_details.columns = df_order_details.columns.str.lower()\n",
    "df_orders.columns = df_orders.columns.str.lower()\n",
    "df_products.columns = df_products.columns.str.lower()\n",
    "df_shippers.columns = df_shippers.columns.str.lower()\n",
    "df_suppliers.columns = df_suppliers.columns.str.lower()\n",
    "\n",
    "# Check dimensions of DataFrames\n",
    "print(\"Dimensions of DataFrames:\")\n",
    "print(f\"Customers: {df_customers.shape}\")\n",
    "print(f\"Categories: {df_categories.shape}\")\n",
    "print(f\"Employees: {df_employees.shape}\")\n",
    "print(f\"OrderDetails: {df_order_details.shape}\")\n",
    "print(f\"Orders: {df_orders.shape}\")\n",
    "print(f\"Products: {df_products.shape}\")\n",
    "print(f\"Shippers: {df_shippers.shape}\")\n",
    "print(f\"Suppliers: {df_suppliers.shape}\")\n"
   ]
  },
  {
   "cell_type": "markdown",
   "id": "66164662",
   "metadata": {},
   "source": [
    "## Create database connection"
   ]
  },
  {
   "cell_type": "code",
   "execution_count": null,
   "id": "cfd07b2d-1b23-4c93-b3f9-ccc3dcc73c31",
   "metadata": {},
   "outputs": [],
   "source": [
    "# Set up database connection\n",
    "user = \"pgadmin\"\n",
    "password = \"geheim\"\n",
    "host = \"localhost\"\n",
    "port = \"5432\"\n",
    "database = \"postgres\"\n",
    "\n",
    "# Create Connection URL\n",
    "db_connection_url = \"postgresql://\" + user + \":\" + password +\\\n",
    "                    \"@\" + host + \":\" + port + \"/\" + database\n",
    "\n",
    "# Create SQLAlchemy Engine\n",
    "engine = create_engine(db_connection_url)\n",
    "\n",
    "# Test database connection\n",
    "with engine.connect() as connection:\n",
    "    result = connection.execute(text('SELECT current_database()'))\n",
    "    print(result.fetchone())\n",
    "\n",
    "# Dispose the engine\n",
    "engine.dispose()"
   ]
  },
  {
   "cell_type": "markdown",
   "id": "4dbe76ca",
   "metadata": {},
   "source": [
    "## Write data frames to database tables"
   ]
  },
  {
   "cell_type": "code",
   "execution_count": 18,
   "id": "ba3aec4c",
   "metadata": {},
   "outputs": [],
   "source": [
    "# Create SQLAlchemy Engine\n",
    "engine = create_engine(db_connection_url)\n",
    "\n",
    "# Write DataFrames to database\n",
    "df_customers.to_sql('customers', engine, if_exists='replace')\n",
    "df_categories.to_sql('categories', engine, if_exists='replace')\n",
    "df_employees.to_sql('employees', engine, if_exists='replace')\n",
    "df_order_details.to_sql('order_details', engine, if_exists='replace')\n",
    "df_orders.to_sql('orders', engine, if_exists='replace')\n",
    "df_products.to_sql('products', engine, if_exists='replace')\n",
    "df_shippers.to_sql('shippers', engine, if_exists='replace')\n",
    "df_suppliers.to_sql('suppliers', engine, if_exists='replace')\n",
    "\n",
    "# Dispose the engine\n",
    "engine.dispose()"
   ]
  },
  {
   "cell_type": "markdown",
   "id": "5c01d582",
   "metadata": {},
   "source": [
    "## List tables in the database"
   ]
  },
  {
   "cell_type": "code",
   "execution_count": null,
   "id": "288c472a",
   "metadata": {},
   "outputs": [],
   "source": [
    "# Create SQLAlchemy Engine\n",
    "engine = create_engine(db_connection_url)\n",
    "\n",
    "# Open a connection\n",
    "with engine.connect() as connection:\n",
    "\n",
    "    # Execute the query\n",
    "    result = connection.execute(text(\"\"\"SELECT table_name\n",
    "                                        FROM information_schema.tables\n",
    "                                        WHERE table_schema = 'public'\"\"\"))\n",
    "    \n",
    "    # Fetch and print the results\n",
    "    for row in result:\n",
    "        print(row[0])\n",
    "\n",
    "# Dispose the engine\n",
    "engine.dispose()"
   ]
  },
  {
   "cell_type": "markdown",
   "id": "2b80dc61",
   "metadata": {},
   "source": [
    "## Make SQL query to select data"
   ]
  },
  {
   "cell_type": "code",
   "execution_count": null,
   "id": "077a187d-05be-4c30-a367-a4e1a19d4466",
   "metadata": {},
   "outputs": [],
   "source": [
    "# Create SQLAlchemy Engine\n",
    "engine = create_engine(db_connection_url)\n",
    "\n",
    "# Write data to table\n",
    "df_sub = pd.read_sql_query('''SELECT \n",
    "                                  p.ProductID, \n",
    "                                  p.ProductName, \n",
    "                                  c.CategoryName,\n",
    "                                  p.Price\n",
    "                              FROM Products AS p\n",
    "                              INNER JOIN \n",
    "                                  Categories AS c ON p.CategoryID = c.CategoryID;''', \n",
    "                          con=engine)\n",
    "\n",
    "# Dispose the engine\n",
    "engine.dispose()\n",
    "\n",
    "# Show the data\n",
    "df_sub"
   ]
  },
  {
   "cell_type": "markdown",
   "id": "5a828fd6-ebe9-431d-b0ab-0ee97e96cf53",
   "metadata": {},
   "source": [
    "## Plot product prices"
   ]
  },
  {
   "cell_type": "code",
   "execution_count": null,
   "id": "e57b9583-89b5-4b58-b8a1-1349f21d086a",
   "metadata": {},
   "outputs": [],
   "source": [
    "# Plot Histogram\n",
    "fig = plt.figure( figsize=(7,4))\n",
    "plt.xticks(fontsize=14, rotation=0)\n",
    "plt.yticks(fontsize=14, rotation=0)\n",
    "n, bins, patches = plt.hist(x=df_sub['price'], \n",
    "                            bins=20, \n",
    "                            color='#C53115',\n",
    "                            alpha=1.00, \n",
    "                            rwidth=0.95\n",
    "                   )\n",
    "plt.grid(True)\n",
    "plt.ticklabel_format(style='plain')\n",
    "plt.grid(axis='y', alpha=0.75)\n",
    "\n",
    "# Set labels\n",
    "plt.xlabel('Price (USD)', fontsize=10, labelpad=10)\n",
    "plt.ylabel('Frequency', fontsize=10, labelpad=10)\n",
    "plt.title('Histogram of product prices', fontsize=12, pad=10)\n",
    "\n",
    "# Set fontsize of tick labels\n",
    "plt.xticks(fontsize = 10)\n",
    "plt.yticks(fontsize = 10)\n",
    "\n",
    "plt.show()"
   ]
  },
  {
   "attachments": {},
   "cell_type": "markdown",
   "id": "ff525b1e",
   "metadata": {},
   "source": [
    "### Jupyter notebook --footer info-- (please always provide this at the end of each notebook)"
   ]
  },
  {
   "cell_type": "code",
   "execution_count": null,
   "id": "e6cae5b2",
   "metadata": {},
   "outputs": [],
   "source": [
    "import os\n",
    "import platform\n",
    "import socket\n",
    "from platform import python_version\n",
    "from datetime import datetime\n",
    "\n",
    "print('-----------------------------------')\n",
    "print(os.name.upper())\n",
    "print(platform.system(), '|', platform.release())\n",
    "print('Datetime:', datetime.now().strftime(\"%Y-%m-%d %H:%M:%S\"))\n",
    "print('Python Version:', python_version())\n",
    "print('-----------------------------------')"
   ]
  }
 ],
 "metadata": {
  "kernelspec": {
   "display_name": "Python 3",
   "language": "python",
   "name": "python3"
  },
  "language_info": {
   "codemirror_mode": {
    "name": "ipython",
    "version": 3
   },
   "file_extension": ".py",
   "mimetype": "text/x-python",
   "name": "python",
   "nbconvert_exporter": "python",
   "pygments_lexer": "ipython3",
   "version": "3.12.4"
  }
 },
 "nbformat": 4,
 "nbformat_minor": 5
}
